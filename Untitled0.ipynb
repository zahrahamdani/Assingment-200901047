{
  "nbformat": 4,
  "nbformat_minor": 0,
  "metadata": {
    "colab": {
      "name": "Untitled0.ipynb",
      "provenance": []
    },
    "kernelspec": {
      "name": "python3",
      "display_name": "Python 3"
    },
    "language_info": {
      "name": "python"
    }
  },
  "cells": [
    {
      "cell_type": "code",
      "metadata": {
        "id": "k7QpRo1aoYbb"
      },
      "source": [
        "def check(open,close):\n",
        "    if open=='[' and close==']':\n",
        "        return True\n",
        "    if open=='{' and close=='}':\n",
        "        return True\n",
        "    if open=='(' and close==')':\n",
        "        return True\n",
        "    return False\n",
        "\n",
        "def Bal(Z):\n",
        "    stack=[]\n",
        "    for i in range(len(Z)):\n",
        "        if Z[i]=='[' or Z[i]=='{' or Z[i]=='(':\n",
        "            stack.append(Z[i])\n",
        "        elif Z[i] == ']' or Z[i] == '}' or Z[i] == ')':\n",
        "            if check(stack[-1],Z[i] or len(stack)!=0):\n",
        "                stack.pop()\n",
        "            else:\n",
        "                return False\n",
        "    if len(stack)==0:\n",
        "        return True\n",
        "    else:\n",
        "        return False\n",
        "\n",
        "\n",
        "Z=\"))\"\n",
        "print(Bal(Z))\n"
      ],
      "execution_count": null,
      "outputs": []
    }
  ]
}